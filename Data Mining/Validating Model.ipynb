{
 "cells": [
  {
   "cell_type": "code",
   "execution_count": 1,
   "metadata": {},
   "outputs": [],
   "source": [
    "# Import required libraries\n",
    "import pandas as pd\n",
    "import numpy as np\n",
    "import matplotlib.pyplot as plt\n",
    "import sklearn\n",
    "\n",
    "# Import necessary modules\n",
    "from sklearn.model_selection import train_test_split\n",
    "from sklearn.metrics import mean_squared_error\n",
    "from math import sqrt\n",
    "from sklearn import model_selection\n",
    "# from sklearn.linear_model import LogisticRegression\n",
    "from sklearn.model_selection import KFold\n",
    "from sklearn.model_selection import LeaveOneOut\n",
    "from sklearn.model_selection import LeavePOut\n",
    "from sklearn.model_selection import ShuffleSplit\n",
    "from sklearn.model_selection import StratifiedKFold"
   ]
  },
  {
   "cell_type": "code",
   "execution_count": 2,
   "metadata": {},
   "outputs": [
    {
     "name": "stdout",
     "output_type": "stream",
     "text": [
      "<class 'pandas.core.frame.DataFrame'>\n",
      "RangeIndex: 768 entries, 0 to 767\n",
      "Data columns (total 9 columns):\n",
      " #   Column                    Non-Null Count  Dtype  \n",
      "---  ------                    --------------  -----  \n",
      " 0   Pregnancies               768 non-null    int64  \n",
      " 1   Glucose                   768 non-null    int64  \n",
      " 2   BloodPressure             768 non-null    int64  \n",
      " 3   SkinThickness             768 non-null    int64  \n",
      " 4   Insulin                   768 non-null    int64  \n",
      " 5   BMI                       768 non-null    float64\n",
      " 6   DiabetesPedigreeFunction  768 non-null    float64\n",
      " 7   Age                       768 non-null    int64  \n",
      " 8   Outcome                   768 non-null    int64  \n",
      "dtypes: float64(2), int64(7)\n",
      "memory usage: 54.1 KB\n"
     ]
    }
   ],
   "source": [
    "df = pd.read_csv('datasets/diabetes.csv') \n",
    "df.info()\n",
    "# df.head()"
   ]
  },
  {
   "cell_type": "code",
   "execution_count": 3,
   "metadata": {},
   "outputs": [],
   "source": [
    "x = df.drop('Outcome', axis=1).values \n",
    "y = df['Outcome'].values"
   ]
  },
  {
   "cell_type": "code",
   "execution_count": 4,
   "metadata": {},
   "outputs": [],
   "source": [
    "from sklearn.tree import DecisionTreeClassifier\n",
    "from sklearn.svm import SVC"
   ]
  },
  {
   "cell_type": "code",
   "execution_count": 5,
   "metadata": {},
   "outputs": [
    {
     "name": "stdout",
     "output_type": "stream",
     "text": [
      "Hold-Out 70-30\n",
      "Accuracy of Decision Tree: 67.10%\n",
      "Accuracy of SVM: 75.76%\n"
     ]
    }
   ],
   "source": [
    "# Evaluate using a train and a test set\n",
    "print(\"Hold-Out 70-30\")\n",
    "X_train, X_test, Y_train, Y_test = model_selection.train_test_split(x, y, test_size=0.30, random_state=100)\n",
    "model_dt = DecisionTreeClassifier()\n",
    "model_dt.fit(X_train, Y_train)\n",
    "result_dt = model_dt.score(X_test, Y_test)\n",
    "print(\"Accuracy of Decision Tree: %.2f%%\" % (result_dt*100.0))\n",
    "model_svm = SVC()\n",
    "model_svm.fit(X_train, Y_train)\n",
    "result_svm = model_svm.score(X_test, Y_test)\n",
    "print(\"Accuracy of SVM: %.2f%%\" % (result_svm*100.0))"
   ]
  },
  {
   "cell_type": "code",
   "execution_count": 6,
   "metadata": {},
   "outputs": [
    {
     "name": "stdout",
     "output_type": "stream",
     "text": [
      "10 Fold Cross Validation\n",
      "Accuracy of Decision Tree: 69.26%\n",
      "Accuracy of SVM 76.04%\n"
     ]
    }
   ],
   "source": [
    "print(\"10 Fold Cross Validation\")\n",
    "model_dt = DecisionTreeClassifier()\n",
    "model_svm = SVC()\n",
    "kfold = KFold(n_splits=10)\n",
    "# model_kfold = LogisticRegression()\n",
    "results_dt_kfold = model_selection.cross_val_score(model_dt, x, y, cv=kfold)\n",
    "results_svm_kfold = model_selection.cross_val_score(model_svm, x, y, cv=kfold)\n",
    "print(\"Accuracy of Decision Tree: %.2f%%\" % (results_dt_kfold.mean()*100.0))\n",
    "print(\"Accuracy of SVM %.2f%%\" % (results_svm_kfold.mean()*100.0))"
   ]
  },
  {
   "cell_type": "code",
   "execution_count": 7,
   "metadata": {},
   "outputs": [
    {
     "name": "stdout",
     "output_type": "stream",
     "text": [
      "stratified 3-Fold\n",
      "Accuracy of Decision Tree: 68.49%\n",
      "Accuracy of SVM 75.00%\n"
     ]
    }
   ],
   "source": [
    "print(\"stratified 3-Fold\")\n",
    "model_dt = DecisionTreeClassifier()\n",
    "model_svm = SVC()\n",
    "skfold = StratifiedKFold(n_splits=3)\n",
    "results_dt_skfold = model_selection.cross_val_score(model_dt, x, y, cv=skfold)\n",
    "results_svm_skfold = model_selection.cross_val_score(model_svm, x, y, cv=skfold)\n",
    "print(\"Accuracy of Decision Tree: %.2f%%\" % (results_dt_skfold.mean()*100.0))\n",
    "print(\"Accuracy of SVM %.2f%%\" % (results_svm_skfold.mean()*100.0))"
   ]
  },
  {
   "cell_type": "code",
   "execution_count": 8,
   "metadata": {},
   "outputs": [
    {
     "name": "stdout",
     "output_type": "stream",
     "text": [
      "Leave One Out Cross Validation\n",
      "Accuracy of Decision Tree: 70.31%\n",
      "Accuracy of SVM 76.30%\n"
     ]
    }
   ],
   "source": [
    "print(\"Leave One Out Cross Validation\")\n",
    "model_dt = DecisionTreeClassifier()\n",
    "model_svm = SVC()\n",
    "loocv = model_selection.LeaveOneOut()\n",
    "results_dt_loocv = model_selection.cross_val_score(model_dt, x, y, cv=loocv)\n",
    "results_svm_loocv = model_selection.cross_val_score(model_svm, x, y, cv=loocv)\n",
    "print(\"Accuracy of Decision Tree: %.2f%%\" % (results_dt_loocv.mean()*100.0))\n",
    "print(\"Accuracy of SVM %.2f%%\" % (results_svm_loocv.mean()*100.0))"
   ]
  },
  {
   "cell_type": "code",
   "execution_count": 9,
   "metadata": {},
   "outputs": [
    {
     "name": "stdout",
     "output_type": "stream",
     "text": [
      "Repeated Random Sub-sampling(10 splits in 70-30) \n",
      "Accuracy of Decision Tree: 70.04%\n",
      "Accuracy of SVM 74.37%\n"
     ]
    }
   ],
   "source": [
    "print(\"Repeated Random Sub-sampling(10 splits in 70-30) \")\n",
    "model_dt = DecisionTreeClassifier()\n",
    "model_svm = SVC()\n",
    "kfold2 = ShuffleSplit(n_splits=10, test_size=0.30, random_state=100)\n",
    "results_dt_shufflecv = model_selection.cross_val_score(model_dt, x, y, cv=kfold2)\n",
    "results_svm_shufflecv = model_selection.cross_val_score(model_svm, x, y, cv=kfold2)\n",
    "print(\"Accuracy of Decision Tree: %.2f%%\" % (results_dt_shufflecv.mean()*100.0))\n",
    "print(\"Accuracy of SVM %.2f%%\" % (results_svm_shufflecv.mean()*100.0))"
   ]
  },
  {
   "cell_type": "code",
   "execution_count": 10,
   "metadata": {},
   "outputs": [
    {
     "name": "stdout",
     "output_type": "stream",
     "text": [
      "Ensemble of Decision Tree, SVM and KNN\n",
      "\n",
      "Hold-Out 70-30\n",
      "Accuracy: 76.19%\n",
      "\n",
      "10 Fold Cross Validation\n",
      "Accuracy: 75.39%\n",
      "\n",
      "stratified 3-Fold\n",
      "Accuracy: 73.57%\n",
      "\n",
      "Leave One Out Cross Validation\n",
      "Accuracy: 74.35%\n",
      "\n",
      "Repeated Random Sub-sampling(10 splits in 70-30) \n",
      "Accuracy: 73.64%\n"
     ]
    }
   ],
   "source": [
    "from sklearn.ensemble import VotingClassifier\n",
    "from sklearn.neighbors import KNeighborsClassifier\n",
    "from sklearn.metrics import accuracy_score\n",
    "model_knn = KNeighborsClassifier()\n",
    "vc = VotingClassifier(estimators=[('dtree',model_dt),('svm',model_svm),(\"knn\",model_knn)])\n",
    "print(\"Ensemble of Decision Tree, SVM and KNN\")\n",
    "print(\"\\nHold-Out 70-30\")\n",
    "vc.fit(X_train, Y_train)\n",
    "predictions = vc.predict(X_test)\n",
    "print(\"Accuracy: %.2f%%\" % (accuracy_score(Y_test, predictions)*100))\n",
    "print(\"\\n10 Fold Cross Validation\")\n",
    "results_vc_kfold = model_selection.cross_val_score(vc, x, y, cv=kfold)\n",
    "print(\"Accuracy: %.2f%%\" % (results_vc_kfold.mean()*100.0))\n",
    "print(\"\\nstratified 3-Fold\")\n",
    "results_vc_skfold = model_selection.cross_val_score(vc, x, y, cv=skfold)\n",
    "print(\"Accuracy: %.2f%%\" % (results_vc_skfold.mean()*100.0))\n",
    "print(\"\\nLeave One Out Cross Validation\")\n",
    "results_vc_loocv = model_selection.cross_val_score(vc, x, y, cv=loocv)\n",
    "print(\"Accuracy: %.2f%%\" % (results_vc_loocv.mean()*100.0))\n",
    "print(\"\\nRepeated Random Sub-sampling(10 splits in 70-30) \")\n",
    "results_vc_kfold2 = model_selection.cross_val_score(vc, x, y, cv=kfold2)\n",
    "print(\"Accuracy: %.2f%%\" % (results_vc_kfold2.mean()*100.0))"
   ]
  },
  {
   "cell_type": "code",
   "execution_count": null,
   "metadata": {},
   "outputs": [],
   "source": []
  }
 ],
 "metadata": {
  "kernelspec": {
   "display_name": "Python 3",
   "language": "python",
   "name": "python3"
  },
  "language_info": {
   "codemirror_mode": {
    "name": "ipython",
    "version": 3
   },
   "file_extension": ".py",
   "mimetype": "text/x-python",
   "name": "python",
   "nbconvert_exporter": "python",
   "pygments_lexer": "ipython3",
   "version": "3.7.4"
  }
 },
 "nbformat": 4,
 "nbformat_minor": 4
}
