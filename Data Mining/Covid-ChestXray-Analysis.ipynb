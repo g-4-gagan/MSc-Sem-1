{
 "cells": [
  {
   "cell_type": "code",
   "execution_count": 1,
   "metadata": {},
   "outputs": [],
   "source": [
    "import numpy as np\n",
    "import pandas as pd"
   ]
  },
  {
   "cell_type": "code",
   "execution_count": 2,
   "metadata": {},
   "outputs": [],
   "source": [
    "df = pd.read_csv(\"datasets/meta_data.csv\")"
   ]
  },
  {
   "cell_type": "code",
   "execution_count": 3,
   "metadata": {},
   "outputs": [
    {
     "name": "stdout",
     "output_type": "stream",
     "text": [
      "<class 'pandas.core.frame.DataFrame'>\n",
      "RangeIndex: 950 entries, 0 to 949\n",
      "Data columns (total 30 columns):\n",
      " #   Column                  Non-Null Count  Dtype  \n",
      "---  ------                  --------------  -----  \n",
      " 0   patientid               950 non-null    object \n",
      " 1   offset                  697 non-null    float64\n",
      " 2   sex                     870 non-null    object \n",
      " 3   age                     713 non-null    float64\n",
      " 4   finding                 950 non-null    object \n",
      " 5   RT_PCR_positive         593 non-null    object \n",
      " 6   survival                361 non-null    object \n",
      " 7   intubated               248 non-null    object \n",
      " 8   intubation_present      250 non-null    object \n",
      " 9   went_icu                397 non-null    object \n",
      " 10  in_icu                  335 non-null    object \n",
      " 11  needed_supplemental_O2  90 non-null     object \n",
      " 12  extubated               37 non-null     object \n",
      " 13  temperature             78 non-null     float64\n",
      " 14  pO2_saturation          119 non-null    float64\n",
      " 15  leukocyte_count         16 non-null     float64\n",
      " 16  neutrophil_count        28 non-null     float64\n",
      " 17  lymphocyte_count        40 non-null     float64\n",
      " 18  view                    950 non-null    object \n",
      " 19  modality                950 non-null    object \n",
      " 20  date                    661 non-null    object \n",
      " 21  location                894 non-null    object \n",
      " 22  folder                  950 non-null    object \n",
      " 23  filename                950 non-null    object \n",
      " 24  doi                     382 non-null    object \n",
      " 25  url                     950 non-null    object \n",
      " 26  license                 705 non-null    object \n",
      " 27  clinical_notes          768 non-null    object \n",
      " 28  other_notes             436 non-null    object \n",
      " 29  Unnamed: 29             5 non-null      object \n",
      "dtypes: float64(7), object(23)\n",
      "memory usage: 222.8+ KB\n"
     ]
    }
   ],
   "source": [
    "df.info()"
   ]
  },
  {
   "cell_type": "code",
   "execution_count": 5,
   "metadata": {},
   "outputs": [
    {
     "data": {
      "text/plain": [
       "array(['PA', 'AP', 'L', 'Axial', 'AP Supine', 'Coronal', 'AP Erect'],\n",
       "      dtype=object)"
      ]
     },
     "execution_count": 5,
     "metadata": {},
     "output_type": "execute_result"
    }
   ],
   "source": [
    "df[\"view\"].unique()"
   ]
  },
  {
   "cell_type": "code",
   "execution_count": 6,
   "metadata": {},
   "outputs": [
    {
     "data": {
      "text/plain": [
       "array(['images', 'volumes'], dtype=object)"
      ]
     },
     "execution_count": 6,
     "metadata": {},
     "output_type": "execute_result"
    }
   ],
   "source": [
    "df[\"folder\"].unique()"
   ]
  },
  {
   "cell_type": "code",
   "execution_count": null,
   "metadata": {},
   "outputs": [],
   "source": []
  }
 ],
 "metadata": {
  "kernelspec": {
   "display_name": "Python 3",
   "language": "python",
   "name": "python3"
  },
  "language_info": {
   "codemirror_mode": {
    "name": "ipython",
    "version": 3
   },
   "file_extension": ".py",
   "mimetype": "text/x-python",
   "name": "python",
   "nbconvert_exporter": "python",
   "pygments_lexer": "ipython3",
   "version": "3.7.4"
  }
 },
 "nbformat": 4,
 "nbformat_minor": 4
}
