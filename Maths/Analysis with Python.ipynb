{
 "cells": [
  {
   "cell_type": "code",
   "execution_count": 1,
   "id": "847698ff",
   "metadata": {},
   "outputs": [],
   "source": [
    "import numpy as np\n",
    "import pandas as pd\n",
    "import matplotlib.pyplot as plt\n",
    "import seaborn as  sns"
   ]
  },
  {
   "cell_type": "code",
   "execution_count": 5,
   "id": "785a0c89",
   "metadata": {},
   "outputs": [
    {
     "data": {
      "text/html": [
       "<div>\n",
       "<style scoped>\n",
       "    .dataframe tbody tr th:only-of-type {\n",
       "        vertical-align: middle;\n",
       "    }\n",
       "\n",
       "    .dataframe tbody tr th {\n",
       "        vertical-align: top;\n",
       "    }\n",
       "\n",
       "    .dataframe thead th {\n",
       "        text-align: right;\n",
       "    }\n",
       "</style>\n",
       "<table border=\"1\" class=\"dataframe\">\n",
       "  <thead>\n",
       "    <tr style=\"text-align: right;\">\n",
       "      <th></th>\n",
       "      <th>States/UTs</th>\n",
       "      <th>Schools with Girls' Toilet</th>\n",
       "      <th>Schools with functional Girls' Toilet</th>\n",
       "    </tr>\n",
       "    <tr>\n",
       "      <th>Sl. No.</th>\n",
       "      <th></th>\n",
       "      <th></th>\n",
       "      <th></th>\n",
       "    </tr>\n",
       "  </thead>\n",
       "  <tbody>\n",
       "    <tr>\n",
       "      <th>1</th>\n",
       "      <td>Andaman &amp; Nicobar Islands</td>\n",
       "      <td>100.00</td>\n",
       "      <td>100.00</td>\n",
       "    </tr>\n",
       "    <tr>\n",
       "      <th>2</th>\n",
       "      <td>Andhra Pradesh</td>\n",
       "      <td>99.72</td>\n",
       "      <td>89.38</td>\n",
       "    </tr>\n",
       "    <tr>\n",
       "      <th>3</th>\n",
       "      <td>Arunachal Pradesh</td>\n",
       "      <td>95.60</td>\n",
       "      <td>94.62</td>\n",
       "    </tr>\n",
       "    <tr>\n",
       "      <th>4</th>\n",
       "      <td>Assam</td>\n",
       "      <td>97.24</td>\n",
       "      <td>94.72</td>\n",
       "    </tr>\n",
       "    <tr>\n",
       "      <th>5</th>\n",
       "      <td>Bihar</td>\n",
       "      <td>89.41</td>\n",
       "      <td>92.24</td>\n",
       "    </tr>\n",
       "  </tbody>\n",
       "</table>\n",
       "</div>"
      ],
      "text/plain": [
       "                        States/UTs  Schools with Girls' Toilet  \\\n",
       "Sl. No.                                                          \n",
       "1        Andaman & Nicobar Islands                      100.00   \n",
       "2                   Andhra Pradesh                       99.72   \n",
       "3                Arunachal Pradesh                       95.60   \n",
       "4                            Assam                       97.24   \n",
       "5                            Bihar                       89.41   \n",
       "\n",
       "         Schools with functional Girls' Toilet  \n",
       "Sl. No.                                         \n",
       "1                                       100.00  \n",
       "2                                        89.38  \n",
       "3                                        94.62  \n",
       "4                                        94.72  \n",
       "5                                        92.24  "
      ]
     },
     "execution_count": 5,
     "metadata": {},
     "output_type": "execute_result"
    }
   ],
   "source": [
    "df = pd.read_csv(\"Dataset/RS_Session_248_AS_9.csv\", index_col=\"Sl. No.\")\n",
    "df.head()"
   ]
  },
  {
   "cell_type": "code",
   "execution_count": 6,
   "id": "ee4c463e",
   "metadata": {},
   "outputs": [
    {
     "name": "stdout",
     "output_type": "stream",
     "text": [
      "<class 'pandas.core.frame.DataFrame'>\n",
      "Int64Index: 37 entries, 1 to 37\n",
      "Data columns (total 3 columns):\n",
      " #   Column                                 Non-Null Count  Dtype  \n",
      "---  ------                                 --------------  -----  \n",
      " 0   States/UTs                             37 non-null     object \n",
      " 1   Schools with Girls' Toilet             37 non-null     float64\n",
      " 2   Schools with functional Girls' Toilet  37 non-null     float64\n",
      "dtypes: float64(2), object(1)\n",
      "memory usage: 1.2+ KB\n"
     ]
    }
   ],
   "source": [
    "df.info()"
   ]
  },
  {
   "cell_type": "code",
   "execution_count": 7,
   "id": "edf161f7",
   "metadata": {},
   "outputs": [
    {
     "data": {
      "text/html": [
       "<div>\n",
       "<style scoped>\n",
       "    .dataframe tbody tr th:only-of-type {\n",
       "        vertical-align: middle;\n",
       "    }\n",
       "\n",
       "    .dataframe tbody tr th {\n",
       "        vertical-align: top;\n",
       "    }\n",
       "\n",
       "    .dataframe thead th {\n",
       "        text-align: right;\n",
       "    }\n",
       "</style>\n",
       "<table border=\"1\" class=\"dataframe\">\n",
       "  <thead>\n",
       "    <tr style=\"text-align: right;\">\n",
       "      <th></th>\n",
       "      <th>Schools with Girls' Toilet</th>\n",
       "      <th>Schools with functional Girls' Toilet</th>\n",
       "    </tr>\n",
       "  </thead>\n",
       "  <tbody>\n",
       "    <tr>\n",
       "      <th>count</th>\n",
       "      <td>37.000000</td>\n",
       "      <td>37.000000</td>\n",
       "    </tr>\n",
       "    <tr>\n",
       "      <th>mean</th>\n",
       "      <td>98.626216</td>\n",
       "      <td>96.746757</td>\n",
       "    </tr>\n",
       "    <tr>\n",
       "      <th>std</th>\n",
       "      <td>2.124541</td>\n",
       "      <td>3.918441</td>\n",
       "    </tr>\n",
       "    <tr>\n",
       "      <th>min</th>\n",
       "      <td>89.410000</td>\n",
       "      <td>86.190000</td>\n",
       "    </tr>\n",
       "    <tr>\n",
       "      <th>25%</th>\n",
       "      <td>98.070000</td>\n",
       "      <td>94.720000</td>\n",
       "    </tr>\n",
       "    <tr>\n",
       "      <th>50%</th>\n",
       "      <td>99.480000</td>\n",
       "      <td>98.230000</td>\n",
       "    </tr>\n",
       "    <tr>\n",
       "      <th>75%</th>\n",
       "      <td>99.980000</td>\n",
       "      <td>99.980000</td>\n",
       "    </tr>\n",
       "    <tr>\n",
       "      <th>max</th>\n",
       "      <td>100.000000</td>\n",
       "      <td>100.000000</td>\n",
       "    </tr>\n",
       "  </tbody>\n",
       "</table>\n",
       "</div>"
      ],
      "text/plain": [
       "       Schools with Girls' Toilet  Schools with functional Girls' Toilet\n",
       "count                   37.000000                              37.000000\n",
       "mean                    98.626216                              96.746757\n",
       "std                      2.124541                               3.918441\n",
       "min                     89.410000                              86.190000\n",
       "25%                     98.070000                              94.720000\n",
       "50%                     99.480000                              98.230000\n",
       "75%                     99.980000                              99.980000\n",
       "max                    100.000000                             100.000000"
      ]
     },
     "execution_count": 7,
     "metadata": {},
     "output_type": "execute_result"
    }
   ],
   "source": [
    "df.describe()"
   ]
  },
  {
   "cell_type": "code",
   "execution_count": 8,
   "id": "eea1e709",
   "metadata": {},
   "outputs": [
    {
     "data": {
      "text/plain": [
       "37"
      ]
     },
     "execution_count": 8,
     "metadata": {},
     "output_type": "execute_result"
    }
   ],
   "source": [
    "df[\"States/UTs\"]"
   ]
  },
  {
   "cell_type": "code",
   "execution_count": 25,
   "id": "97a91317",
   "metadata": {},
   "outputs": [
    {
     "name": "stdout",
     "output_type": "stream",
     "text": [
      "9\n",
      "25\n",
      "28\n",
      "31\n",
      "35\n",
      "36\n"
     ]
    }
   ],
   "source": [
    "print(df[df[\"Schools with Girls\\' Toilet\"] == 100].count()[0])\n",
    "print(df[df[\"Schools with Girls\\' Toilet\"] >= 99].count()[0])\n",
    "print(df[df[\"Schools with Girls\\' Toilet\"] >= 98].count()[0])\n",
    "print(df[df[\"Schools with Girls\\' Toilet\"] >= 97].count()[0])\n",
    "print(df[df[\"Schools with Girls\\' Toilet\"] >= 95].count()[0])\n",
    "print(df[df[\"Schools with Girls\\' Toilet\"] >= 94].count()[0])"
   ]
  },
  {
   "cell_type": "code",
   "execution_count": 27,
   "id": "3cd08fef",
   "metadata": {},
   "outputs": [
    {
     "data": {
      "text/plain": [
       "States/UTs                               Bihar\n",
       "Schools with Girls' Toilet               89.41\n",
       "Schools with functional Girls' Toilet    92.24\n",
       "Name: 5, dtype: object"
      ]
     },
     "execution_count": 27,
     "metadata": {},
     "output_type": "execute_result"
    }
   ],
   "source": [
    "df.loc[df[\"Schools with Girls\\' Toilet\"].idxmin()]"
   ]
  },
  {
   "cell_type": "code",
   "execution_count": null,
   "id": "ec6296a8",
   "metadata": {},
   "outputs": [],
   "source": []
  }
 ],
 "metadata": {
  "kernelspec": {
   "display_name": "Python 3",
   "language": "python",
   "name": "python3"
  },
  "language_info": {
   "codemirror_mode": {
    "name": "ipython",
    "version": 3
   },
   "file_extension": ".py",
   "mimetype": "text/x-python",
   "name": "python",
   "nbconvert_exporter": "python",
   "pygments_lexer": "ipython3",
   "version": "3.7.4"
  }
 },
 "nbformat": 4,
 "nbformat_minor": 5
}
