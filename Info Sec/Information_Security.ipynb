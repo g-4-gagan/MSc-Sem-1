{
  "nbformat": 4,
  "nbformat_minor": 0,
  "metadata": {
    "colab": {
      "provenance": [],
      "toc_visible": true
    },
    "kernelspec": {
      "name": "python3",
      "display_name": "Python 3"
    },
    "language_info": {
      "name": "python"
    }
  },
  "cells": [
    {
      "cell_type": "markdown",
      "source": [
        "# Shift Cipher"
      ],
      "metadata": {
        "id": "DsNsD1FYuoLp"
      }
    },
    {
      "cell_type": "code",
      "source": [
        "txt = input(\"Enter text to Encrypt: \")\n",
        "key = int(input(\"Enter the shifting character: \"))\n",
        "txt = txt.replace(\" \",\"\")"
      ],
      "metadata": {
        "colab": {
          "base_uri": "https://localhost:8080/"
        },
        "id": "U9A-oyNDu1ca",
        "outputId": "e284cec6-5c97-4f7d-adcf-e31f31660419"
      },
      "execution_count": null,
      "outputs": [
        {
          "name": "stdout",
          "output_type": "stream",
          "text": [
            "Enter text to Encrypt: hello world\n",
            "Enter the shifting character: 2\n"
          ]
        }
      ]
    },
    {
      "cell_type": "code",
      "source": [
        "def encrypt(txt, key):\n",
        "    result = \"\"\n",
        "    for i in range(len(txt)):  \n",
        "        char = txt[i]  \n",
        "        # encypt_func uppercase characters in plain txt  \n",
        "\n",
        "        if (char.isupper()):\n",
        "            result += chr((ord(char) + key - 65) % 26 + 65)  \n",
        "            # encypt_func lowercase characters in plain txt  \n",
        "        else:\n",
        "            result += chr((ord(char) + key - 97) % 26 + 97)  \n",
        "    return result\n",
        "def decrypt(txt, key):\n",
        "    result = \"\"\n",
        "    for i in range(len(txt)):  \n",
        "        char = txt[i]  \n",
        "        # encypt_func uppercase characters in plain txt  \n",
        "\n",
        "        if (char.isupper()):\n",
        "            result += chr((ord(char) - key - 65) % 26 + 65)  \n",
        "            # encypt_func lowercase characters in plain txt  \n",
        "        else:\n",
        "            result += chr((ord(char) - key - 97) % 26 + 97)  \n",
        "    return result"
      ],
      "metadata": {
        "id": "q4fEvCetvL-0"
      },
      "execution_count": null,
      "outputs": []
    },
    {
      "cell_type": "code",
      "source": [
        "enc_txt = encrypt(txt, key)\n",
        "print(enc_txt)\n",
        "print(decrypt(enc_txt,key))"
      ],
      "metadata": {
        "colab": {
          "base_uri": "https://localhost:8080/"
        },
        "id": "L05ZlMO8vMiI",
        "outputId": "b69e19f5-ecaf-4bbc-fb6f-c70371ef18c4"
      },
      "execution_count": null,
      "outputs": [
        {
          "output_type": "stream",
          "name": "stdout",
          "text": [
            "jgnnqyqtnf\n",
            "helloworld\n"
          ]
        }
      ]
    },
    {
      "cell_type": "code",
      "source": [
        "from sympy.crypto.crypto import AZ, encipher_shift, decipher_shift"
      ],
      "metadata": {
        "id": "hcBOnkPavxtX"
      },
      "execution_count": null,
      "outputs": []
    },
    {
      "cell_type": "code",
      "source": [
        "s = AZ(input(\"Enter plaintext: \"))\n",
        "key = int(input(\"Enter key: \"))\n",
        "encrypted_text = encipher_shift(s, key)\n",
        "print(\"The Encrypted Text: \",encrypted_text)"
      ],
      "metadata": {
        "colab": {
          "base_uri": "https://localhost:8080/"
        },
        "id": "5D_u9ZfUv6Fp",
        "outputId": "beb8839f-cb9c-4b0a-c555-a34a473e6914"
      },
      "execution_count": null,
      "outputs": [
        {
          "output_type": "stream",
          "name": "stdout",
          "text": [
            "Enter plaintext: hello world\n",
            "Enter key: 2\n",
            "The Encrypted Text:  JGNNQYQTNF\n"
          ]
        }
      ]
    },
    {
      "cell_type": "code",
      "source": [
        "print(\"Decrypting the encryption: \",decipher_shift(encrypted_text,key))"
      ],
      "metadata": {
        "colab": {
          "base_uri": "https://localhost:8080/"
        },
        "id": "PRIUgTjmv55H",
        "outputId": "3ea22da3-a8c2-441e-e45c-dc9977a57728"
      },
      "execution_count": null,
      "outputs": [
        {
          "output_type": "stream",
          "name": "stdout",
          "text": [
            "Decrypting the encryption:  HELLOWORLD\n"
          ]
        }
      ]
    },
    {
      "cell_type": "markdown",
      "source": [
        "# Mono-Alphabetic Cipher"
      ],
      "metadata": {
        "id": "UBTEYiOT0dyQ"
      }
    },
    {
      "cell_type": "code",
      "source": [
        "from sympy import *\n",
        "import string\n",
        "\n",
        "# Define the alphabet and the substitution key\n",
        "alphabet = string.ascii_lowercase\n",
        "sub_key = 'pqznlwebgjhdycvtkxfuomiasr'\n",
        "\n",
        "# Create a substitution dictionary\n",
        "sub_dict = dict(zip(alphabet, sub_key))\n",
        "\n",
        "def monoalphabetic_encrypt(message):\n",
        "    encrypted = ''\n",
        "    for char in message.lower():\n",
        "        if char in sub_dict:\n",
        "            encrypted += sub_dict[char]\n",
        "        else:\n",
        "            encrypted += char\n",
        "    return encrypted\n",
        "\n",
        "def monoalphabetic_decrypt(message):\n",
        "    decrypted = ''\n",
        "    for char in message.lower():\n",
        "        if char in sub_dict.values():\n",
        "            decrypted += list(sub_dict.keys())[list(sub_dict.values()).index(char)]\n",
        "        else:\n",
        "            decrypted += char\n",
        "    return decrypted\n",
        "\n",
        "# Example usage\n",
        "message = input(\"Enter the plaintext : \")\n",
        "encrypted_message = monoalphabetic_encrypt(message)\n",
        "decrypted_message = monoalphabetic_decrypt(encrypted_message)\n",
        "\n",
        "print(\"Plain Text:\", message)\n",
        "print(\"Encrypted message:\", encrypted_message)\n",
        "print(\"Decrypted message:\", decrypted_message)"
      ],
      "metadata": {
        "colab": {
          "base_uri": "https://localhost:8080/"
        },
        "id": "2q0NzILE0mdc",
        "outputId": "4d31b9c2-5ade-42aa-b3c2-139cd6b6e91d"
      },
      "execution_count": null,
      "outputs": [
        {
          "output_type": "stream",
          "name": "stdout",
          "text": [
            "Enter the plaintext : helloworld\n",
            "Plain Text: helloworld\n",
            "Encrypted message: blddvivxdn\n",
            "Decrypted message: helloworld\n"
          ]
        }
      ]
    },
    {
      "cell_type": "markdown",
      "source": [
        "# Vigenere Cipher"
      ],
      "metadata": {
        "id": "8A9YDn1muo2I"
      }
    },
    {
      "cell_type": "code",
      "source": [
        "encryption = lambda x , y : chr((ord(x) + ord(y)) % 26 + 65)\n",
        "decryption = lambda x , y : chr((ord(x) - ord(y)) % 26 + 65)\n",
        "plaintext=input(\"Enter the plaintext : \").upper()\n",
        "Key=input(\"Enter the key : \").upper()\n",
        "\n",
        "def make_key_length_equal(plaintext,key):\n",
        "    l = 0\n",
        "    while len(key) < len(plaintext):\n",
        "        key += key[l]\n",
        "        l += 1\n",
        "    return key\n",
        "key = make_key_length_equal(plaintext,Key)\n",
        "Ciphertext = \"\".join(list(map(encryption,plaintext,key)))\n",
        "print(\"Cipher text : \",Ciphertext)\n",
        "Deciphertext= \"\".join(list(map(decryption,Ciphertext,key)))\n",
        "print(\"Decipher text : \",Deciphertext)"
      ],
      "metadata": {
        "colab": {
          "base_uri": "https://localhost:8080/"
        },
        "id": "sMNKKcVIvLES",
        "outputId": "fe88655b-4e73-4e65-b191-be102d9ca10d"
      },
      "execution_count": null,
      "outputs": [
        {
          "output_type": "stream",
          "name": "stdout",
          "text": [
            "Enter the plaintext : helloworld\n",
            "Enter the key : king\n",
            "Cipher text :  RMYRYEBXVL\n",
            "Decipher text :  HELLOWORLD\n"
          ]
        }
      ]
    },
    {
      "cell_type": "code",
      "source": [
        "from sympy.crypto.crypto import encipher_vigenere, AZ, decipher_vigenere, padded_key\n",
        "\n",
        "key = \"king\"\n",
        "msg = \"helloworld\"\n",
        "encrypt_text = encipher_vigenere(msg, key)\n",
        "print(\"Encrypted Text: \", encrypt_text)\n",
        "print(\"Decrypted Text: \", decipher_vigenere(encrypt_text, key))"
      ],
      "metadata": {
        "colab": {
          "base_uri": "https://localhost:8080/"
        },
        "id": "op28sMzd1pfa",
        "outputId": "30c9a37b-a43d-48fd-e279-7af6e3aa583c"
      },
      "execution_count": null,
      "outputs": [
        {
          "output_type": "stream",
          "name": "stdout",
          "text": [
            "Encrypted Text:  RMYRYEBXVL\n",
            "Decrypted Text:  HELLOWORLD\n"
          ]
        }
      ]
    },
    {
      "cell_type": "markdown",
      "source": [
        "# One-Time Pad Cipher"
      ],
      "metadata": {
        "id": "1wuzfAKb2hU2"
      }
    },
    {
      "cell_type": "code",
      "source": [
        "# !pip install onetimepad\n",
        "import onetimepad\n",
        "\n",
        "plaintext=input(\"Enter Plaintext: \")\n",
        "cipher = onetimepad.encrypt(plaintext, 'random')\n",
        "print(\"Cipher text is \")\n",
        "print(cipher)\n",
        "\n",
        "print(\"Decrypted text is \")\n",
        "decipher = onetimepad.decrypt(cipher, 'random')\n",
        "print(decipher)"
      ],
      "metadata": {
        "colab": {
          "base_uri": "https://localhost:8080/"
        },
        "id": "juLYC-Ba2oPD",
        "outputId": "b658ae08-a40c-4d81-ea30-593ab70921db"
      },
      "execution_count": null,
      "outputs": [
        {
          "output_type": "stream",
          "name": "stdout",
          "text": [
            "Enter Plaintext: hellow\n",
            "Cipher text is \n",
            "1a040208001a\n",
            "Decrypted text is \n",
            "hellow\n"
          ]
        }
      ]
    },
    {
      "cell_type": "markdown",
      "source": [
        "# Hill Cipher"
      ],
      "metadata": {
        "id": "aIhTnNFfwdbp"
      }
    },
    {
      "cell_type": "code",
      "source": [
        "import numpy as np\n",
        "\n",
        "def create_matrix_from(key):\n",
        "    m=[[0] * 3 for i in range(3)]\n",
        "    for i in range(3):\n",
        "        for j in range(3):\n",
        "            m[i][j] = ord(key[3*i+j]) % 65\n",
        "    return m\n",
        "\n",
        "# C = P*K mod 26\n",
        "def encrypt(P, K):\n",
        "    C=[0,0,0]\n",
        "    C[0] = (K[0][0]*P[0] + K[1][0]*P[1] + K[2][0]*P[2]) % 26\n",
        "    C[1] = (K[0][1]*P[0] + K[1][1]*P[1] + K[2][1]*P[2]) % 26\n",
        "    C[2] = (K[0][2]*P[0] + K[1][2]*P[1] + K[2][2]*P[2]) % 26\n",
        "    return C\n",
        "\n",
        "def Hill(message, K):\n",
        "    cipher_text = []\n",
        "    for i in range(0,len(message), 3):\n",
        "        P=[0, 0, 0]\n",
        "        for j in range(3):\n",
        "            P[j] = ord(message[i+j]) % 65\n",
        "        C = encrypt(P,K)\n",
        "        for j in range(3):\n",
        "            cipher_text.append(chr(C[j] + 65))\n",
        "\n",
        "    return \"\".join(cipher_text)\n",
        "\n",
        "def MatrixInverse(K):\n",
        "    det = int(np.linalg.det(K))\n",
        "    det_multiplicative_inverse = pow(det, -1, 26)\n",
        "    K_inv = [[0] * 3 for i in range(3)]\n",
        "    for i in range(3):\n",
        "        for j in range(3):\n",
        "            Dji = K\n",
        "            Dji = np.delete(Dji, (j), axis=0)\n",
        "            Dji = np.delete(Dji, (i), axis=1)\n",
        "            det = Dji[0][0]*Dji[1][1] - Dji[0][1]*Dji[1][0]\n",
        "            K_inv[i][j] = (det_multiplicative_inverse * pow(-1,i+j) * det) % 26\n",
        "    return K_inv\n",
        "\n",
        "plainText = input(\"Insert plain Text to Encrypt: \").upper()\n",
        "key = input(\"Enter the Key: \").upper()\n",
        "K = create_matrix_from(key)\n",
        "print(\"Plain Text: \", plainText)\n",
        "print(\"Key: \", key)\n",
        "print(\"Key Matrix:\\n\", K)"
      ],
      "metadata": {
        "colab": {
          "base_uri": "https://localhost:8080/"
        },
        "id": "8pUhDfKNwgKK",
        "outputId": "8a73e4eb-0371-4fe8-8522-f3c721c206e9"
      },
      "execution_count": null,
      "outputs": [
        {
          "output_type": "stream",
          "name": "stdout",
          "text": [
            "Insert plain Text to Encrypt: MYSECRETMESSAGE\n",
            "Enter the Key: RRFVSVCCT\n",
            "Plain Text:  MYSECRETMESSAGE\n",
            "Key:  RRFVSVCCT\n",
            "Key Matrix:\n",
            " [[17, 17, 5], [21, 18, 21], [2, 2, 19]]\n"
          ]
        }
      ]
    },
    {
      "cell_type": "code",
      "source": [
        "cipher_text = Hill(plainText, K)\n",
        "print ('Cipher text: ', cipher_text)"
      ],
      "metadata": {
        "colab": {
          "base_uri": "https://localhost:8080/"
        },
        "id": "ee1uCjVvw3kL",
        "outputId": "ab676cc5-7f57-4e05-8a24-4212a70d0b1d"
      },
      "execution_count": null,
      "outputs": [
        {
          "output_type": "stream",
          "name": "stdout",
          "text": [
            "Cipher text:  QWWOIVXSXOMMEMU\n"
          ]
        }
      ]
    },
    {
      "cell_type": "code",
      "source": [
        "K_inv = MatrixInverse(K)\n",
        "print(\"Inverse Key Matrix: \\n\", K_inv)"
      ],
      "metadata": {
        "colab": {
          "base_uri": "https://localhost:8080/"
        },
        "id": "Ml_5coAnw7-d",
        "outputId": "270f8933-d9a0-4cc2-99e6-abf890d1b3a4"
      },
      "execution_count": null,
      "outputs": [
        {
          "output_type": "stream",
          "name": "stdout",
          "text": [
            "Inverse Key Matrix: \n",
            " [[4, 9, 15], [15, 17, 6], [24, 0, 17]]\n"
          ]
        }
      ]
    },
    {
      "cell_type": "code",
      "source": [
        "plain_text = Hill(cipher_text, K_inv)\n",
        "print ('Plain text: ', plain_text)"
      ],
      "metadata": {
        "colab": {
          "base_uri": "https://localhost:8080/"
        },
        "id": "ePjeV_mOw_et",
        "outputId": "280a6007-ed22-450a-f852-1563971b08fb"
      },
      "execution_count": null,
      "outputs": [
        {
          "output_type": "stream",
          "name": "stdout",
          "text": [
            "Plain text:  MYSECRETMESSAGE\n"
          ]
        }
      ]
    },
    {
      "cell_type": "code",
      "source": [
        "from sympy.crypto.crypto import AZ, encipher_hill, decipher_hill\n",
        "from sympy import Matrix\n",
        "\n",
        "s = AZ(input(\"Enter plain text:\"))\n",
        "key = Matrix([[17, 17, 5], [21, 18, 21], [2, 2, 19]])\n",
        "print(\"key:\",key)\n",
        "print(\"Plain text:\",s)\n",
        "print(\"Cipher Text:\", encipher_hill(s,key))\n",
        "print(\"Decipher text:\",decipher_hill(encipher_hill(s,key),key))"
      ],
      "metadata": {
        "colab": {
          "base_uri": "https://localhost:8080/"
        },
        "id": "YqeOogPhxSVY",
        "outputId": "9b090dc6-e15b-43a0-afec-09a80ccd14fb"
      },
      "execution_count": null,
      "outputs": [
        {
          "output_type": "stream",
          "name": "stdout",
          "text": [
            "Enter plain text:MYSECRETMESSAGE\n",
            "key: Matrix([[17, 17, 5], [21, 18, 21], [2, 2, 19]])\n",
            "Plain text: MYSECRETMESSAGE\n",
            "Cipher Text: AWYFJXJCOWGWSKK\n",
            "Decipher text: MYSECRETMESSAGE\n"
          ]
        }
      ]
    },
    {
      "cell_type": "markdown",
      "source": [
        "# PlayFair Cipher"
      ],
      "metadata": {
        "id": "tdpshpF43cT-"
      }
    },
    {
      "cell_type": "code",
      "source": [],
      "metadata": {
        "id": "DraEE7Oj3gUw"
      },
      "execution_count": null,
      "outputs": []
    },
    {
      "cell_type": "markdown",
      "source": [
        "# Rail Fence Cipher"
      ],
      "metadata": {
        "id": "vB5hCoizxZxt"
      }
    },
    {
      "cell_type": "code",
      "source": [
        "from sympy.crypto.crypto import encipher_railfence, decipher_railfence\n",
        "message = \"hello world\"\n",
        "encrypt = encipher_railfence(message,3)\n",
        "print(\"Encrypted Message: \", encrypt)\n",
        "print(\"Decrypted Text: \",decipher_railfence(encrypt,3))"
      ],
      "metadata": {
        "colab": {
          "base_uri": "https://localhost:8080/"
        },
        "id": "PlcA5aXpxh3G",
        "outputId": "87b41b57-19b1-42b2-e59d-e942683c2343"
      },
      "execution_count": null,
      "outputs": [
        {
          "output_type": "stream",
          "name": "stdout",
          "text": [
            "Encrypted Message:  horel ollwd\n",
            "Decrypted Text:  hello world\n"
          ]
        }
      ]
    },
    {
      "cell_type": "code",
      "source": [
        "plaintext = AZ(input(\"Enter plain text:\"))\n",
        "print(\"Plain text:\",plaintext)\n",
        "\n",
        "key = 3\n",
        "\n",
        "def encrypt(plaintext: str, key: int) -> str:\n",
        "\n",
        "    print(plaintext)\n",
        "    tracks = [[] for _ in range(key)]\n",
        "\n",
        "    i = 0\n",
        "    increasing = True\n",
        "    for char in plaintext:\n",
        "        tracks[i] += char\n",
        "        if increasing:\n",
        "            i += 1\n",
        "            if i == key-1:\n",
        "                increasing = False\n",
        "        else:\n",
        "            i -= 1\n",
        "            if i == 0:\n",
        "                increasing = True\n",
        "\n",
        "    print(tracks)\n",
        "    crypttext = ''.join([v for rail in tracks for v in rail])\n",
        "    return crypttext\n",
        "\n",
        "def decrypt(crypttext: str, key: int) -> str:\n",
        "    tracks = [[' '] * len(crypttext) for _ in range(key)]\n",
        "\n",
        "    i = 0\n",
        "    increasing = True\n",
        "    for col in range(len(crypttext)):\n",
        "        tracks[i][col] = '*'\n",
        "        if increasing:\n",
        "            i += 1\n",
        "            if i == key-1:\n",
        "                increasing = False\n",
        "        else:\n",
        "            i -= 1\n",
        "            if i == 0:\n",
        "                increasing = True\n",
        "\n",
        "    # print(tracks)\n",
        "    for rail in tracks:\n",
        "        for index in range(len(rail)):\n",
        "            if rail[index] == '*':\n",
        "                rail[index] = crypttext[0]\n",
        "                crypttext = crypttext[1:]\n",
        "    # print(tracks)\n",
        "\n",
        "    i = 0\n",
        "    increasing = True\n",
        "    plaintext = ''\n",
        "    for col in range(len(tracks[0])):\n",
        "        plaintext += tracks[i][col]\n",
        "        if increasing:\n",
        "            i += 1\n",
        "            if i == key-1:\n",
        "                increasing = False\n",
        "        else:\n",
        "            i -= 1\n",
        "            if i == 0:\n",
        "                increasing = True\n",
        "    \n",
        "    return plaintext\n",
        "\n",
        "encrypttext = encrypt(plaintext, key)\n",
        "print(\"Encrypted Text: \", encrypttext)\n",
        "decrypttext = decrypt(encrypttext, key)\n",
        "print(\"Decrypted Text\", decrypttext)"
      ],
      "metadata": {
        "colab": {
          "base_uri": "https://localhost:8080/"
        },
        "id": "DAH7RFTRyv9s",
        "outputId": "703b6954-aa19-40d7-a393-2eb773c37b89"
      },
      "execution_count": null,
      "outputs": [
        {
          "output_type": "stream",
          "name": "stdout",
          "text": [
            "Enter plain text:hello world\n",
            "Plain text: HELLOWORLD\n",
            "HELLOWORLD\n",
            "[['H', 'O', 'L'], ['E', 'L', 'W', 'R', 'D'], ['L', 'O']]\n",
            "Encrypted Text:  HOLELWRDLO\n",
            "Decrypted Text HELLOWORLD\n"
          ]
        }
      ]
    },
    {
      "cell_type": "markdown",
      "source": [
        "# Transposition Cipher"
      ],
      "metadata": {
        "id": "quECHGyN0GR9"
      }
    },
    {
      "cell_type": "code",
      "source": [],
      "metadata": {
        "id": "DJ089mWm0Zcc"
      },
      "execution_count": null,
      "outputs": []
    }
  ]
}