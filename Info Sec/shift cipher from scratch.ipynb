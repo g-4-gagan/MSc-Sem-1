{
 "cells": [
  {
   "cell_type": "code",
   "execution_count": 25,
   "metadata": {},
   "outputs": [
    {
     "name": "stdout",
     "output_type": "stream",
     "text": [
      "Enter text to Encrypt: hello world\n",
      "Enter the shifting character: 2\n"
     ]
    }
   ],
   "source": [
    "txt = input(\"Enter text to Encrypt: \")\n",
    "key = int(input(\"Enter the shifting character: \"))\n",
    "txt = txt.replace(\" \",\"\")"
   ]
  },
  {
   "cell_type": "code",
   "execution_count": 26,
   "metadata": {},
   "outputs": [],
   "source": [
    "def encrypt(txt, key):\n",
    "    result = \"\"\n",
    "    for i in range(len(txt)):  \n",
    "        char = txt[i]  \n",
    "        # encypt_func uppercase characters in plain txt  \n",
    "\n",
    "        if (char.isupper()):\n",
    "            result += chr((ord(char) + key - 65) % 26 + 65)  \n",
    "            # encypt_func lowercase characters in plain txt  \n",
    "        else:\n",
    "            result += chr((ord(char) + key - 97) % 26 + 97)  \n",
    "    return result\n",
    "def decrypt(txt, key):\n",
    "    result = \"\"\n",
    "    for i in range(len(txt)):  \n",
    "        char = txt[i]  \n",
    "        # encypt_func uppercase characters in plain txt  \n",
    "\n",
    "        if (char.isupper()):\n",
    "            result += chr((ord(char) - key - 65) % 26 + 65)  \n",
    "            # encypt_func lowercase characters in plain txt  \n",
    "        else:\n",
    "            result += chr((ord(char) - key - 97) % 26 + 97)  \n",
    "    return result"
   ]
  },
  {
   "cell_type": "code",
   "execution_count": 27,
   "metadata": {},
   "outputs": [
    {
     "name": "stdout",
     "output_type": "stream",
     "text": [
      "jgnnqyqtnf\n"
     ]
    }
   ],
   "source": [
    "enc_txt = encrypt(txt, key)\n",
    "print(enc_txt)"
   ]
  },
  {
   "cell_type": "code",
   "execution_count": 29,
   "metadata": {},
   "outputs": [
    {
     "name": "stdout",
     "output_type": "stream",
     "text": [
      "helloworld\n"
     ]
    }
   ],
   "source": [
    "print(decrypt(enc_txt,key))"
   ]
  },
  {
   "cell_type": "code",
   "execution_count": null,
   "metadata": {},
   "outputs": [],
   "source": []
  }
 ],
 "metadata": {
  "kernelspec": {
   "display_name": "Python 3",
   "language": "python",
   "name": "python3"
  },
  "language_info": {
   "codemirror_mode": {
    "name": "ipython",
    "version": 3
   },
   "file_extension": ".py",
   "mimetype": "text/x-python",
   "name": "python",
   "nbconvert_exporter": "python",
   "pygments_lexer": "ipython3",
   "version": "3.7.4"
  }
 },
 "nbformat": 4,
 "nbformat_minor": 4
}
