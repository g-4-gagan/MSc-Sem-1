{
 "cells": [
  {
   "cell_type": "code",
   "execution_count": 2,
   "metadata": {},
   "outputs": [],
   "source": [
    "from sympy.crypto.crypto import AZ, encipher_shift, decipher_shift"
   ]
  },
  {
   "cell_type": "code",
   "execution_count": 3,
   "metadata": {},
   "outputs": [
    {
     "name": "stdout",
     "output_type": "stream",
     "text": [
      "Enter plaintext: hello\n",
      "Enter key: 2\n",
      "The Encrypted Text:  JGNNQ\n"
     ]
    }
   ],
   "source": [
    "s = AZ(input(\"Enter plaintext: \"))\n",
    "key = int(input(\"Enter key: \"))\n",
    "encrypted_text = encipher_shift(s, key)\n",
    "print(\"The Encrypted Text: \",encrypted_text)"
   ]
  },
  {
   "cell_type": "code",
   "execution_count": 4,
   "metadata": {},
   "outputs": [
    {
     "name": "stdout",
     "output_type": "stream",
     "text": [
      "Decrypting the encryption:  HELLO\n"
     ]
    }
   ],
   "source": [
    "print(\"Decrypting the encryption: \",decipher_shift(encrypted_text,key))"
   ]
  },
  {
   "cell_type": "code",
   "execution_count": null,
   "metadata": {},
   "outputs": [],
   "source": []
  }
 ],
 "metadata": {
  "kernelspec": {
   "display_name": "Python 3",
   "language": "python",
   "name": "python3"
  },
  "language_info": {
   "codemirror_mode": {
    "name": "ipython",
    "version": 3
   },
   "file_extension": ".py",
   "mimetype": "text/x-python",
   "name": "python",
   "nbconvert_exporter": "python",
   "pygments_lexer": "ipython3",
   "version": "3.7.4"
  }
 },
 "nbformat": 4,
 "nbformat_minor": 4
}
