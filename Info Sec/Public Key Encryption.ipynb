{
 "cells": [
  {
   "cell_type": "markdown",
   "id": "337b5a05",
   "metadata": {},
   "source": [
    "# Elgamal Encryption"
   ]
  },
  {
   "cell_type": "code",
   "execution_count": 1,
   "id": "c781d6a7",
   "metadata": {},
   "outputs": [],
   "source": [
    "from sympy.crypto.crypto import elgamal_public_key"
   ]
  },
  {
   "cell_type": "code",
   "execution_count": 2,
   "id": "d499a423",
   "metadata": {},
   "outputs": [
    {
     "data": {
      "text/plain": [
       "(1031, 14, 212)"
      ]
     },
     "execution_count": 2,
     "metadata": {},
     "output_type": "execute_result"
    }
   ],
   "source": [
    "elgamal_public_key((1031, 14, 636))"
   ]
  },
  {
   "cell_type": "code",
   "execution_count": 3,
   "id": "357b14cf",
   "metadata": {},
   "outputs": [],
   "source": [
    "from sympy.crypto.crypto import elgamal_private_key\n",
    "from sympy.ntheory import is_primitive_root, isprime"
   ]
  },
  {
   "cell_type": "code",
   "execution_count": 4,
   "id": "7ce7f81b",
   "metadata": {},
   "outputs": [
    {
     "name": "stdout",
     "output_type": "stream",
     "text": [
      "True\n",
      "True\n"
     ]
    }
   ],
   "source": [
    "a, b, _ = elgamal_private_key()\n",
    "print(isprime(a))\n",
    "print(is_primitive_root(b, a))"
   ]
  },
  {
   "cell_type": "code",
   "execution_count": 5,
   "id": "5f23ae61",
   "metadata": {},
   "outputs": [
    {
     "name": "stdout",
     "output_type": "stream",
     "text": [
      "(8, 6)\n"
     ]
    }
   ],
   "source": [
    "from sympy.crypto.crypto import encipher_elgamal, elgamal_private_key, elgamal_public_key\n",
    "pri = elgamal_private_key(5, seed=[3]); pri\n",
    "pub = elgamal_public_key(pri); pub\n",
    "msg = 36\n",
    "encrypted = encipher_elgamal(msg, pub, seed=[3])\n",
    "print(encrypted)"
   ]
  },
  {
   "cell_type": "code",
   "execution_count": 6,
   "id": "6db5af53",
   "metadata": {},
   "outputs": [
    {
     "name": "stdout",
     "output_type": "stream",
     "text": [
      "36\n"
     ]
    }
   ],
   "source": [
    "from sympy.crypto.crypto import decipher_elgamal\n",
    "pri = elgamal_private_key(5, seed=[3])\n",
    "pub = elgamal_public_key(pri); pub\n",
    "# msg = 17\n",
    "decrypted = decipher_elgamal(encrypted, pri)\n",
    "print(decrypted)"
   ]
  },
  {
   "cell_type": "markdown",
   "id": "1fa88d3e",
   "metadata": {},
   "source": [
    "# RSA Encryption"
   ]
  },
  {
   "cell_type": "code",
   "execution_count": 7,
   "id": "46205c59",
   "metadata": {},
   "outputs": [
    {
     "name": "stdout",
     "output_type": "stream",
     "text": [
      "(15, 7)\n",
      "False\n"
     ]
    }
   ],
   "source": [
    "from sympy.crypto.crypto import rsa_public_key\n",
    "p, q, e = 3, 5, 7\n",
    "print(rsa_public_key(p, q, e))\n",
    "print(rsa_public_key(p, q, 30))"
   ]
  },
  {
   "cell_type": "code",
   "execution_count": 8,
   "id": "510d6b41",
   "metadata": {},
   "outputs": [],
   "source": [
    "from sympy.crypto.crypto import encipher_rsa, decipher_rsa\n",
    "from sympy.crypto.crypto import rsa_public_key, rsa_private_key"
   ]
  },
  {
   "cell_type": "code",
   "execution_count": 9,
   "id": "9d4b0790",
   "metadata": {},
   "outputs": [
    {
     "name": "stdout",
     "output_type": "stream",
     "text": [
      "3\n"
     ]
    }
   ],
   "source": [
    "p, q, e = 3, 5, 7\n",
    "prk = rsa_private_key(p, q, e)\n",
    "puk = rsa_public_key(p, q, e)\n",
    "msg = 12\n",
    "encrypt_rsa = encipher_rsa(msg, prk)\n",
    "print(encrypt_rsa)"
   ]
  },
  {
   "cell_type": "code",
   "execution_count": 10,
   "id": "d0ab0e66",
   "metadata": {},
   "outputs": [
    {
     "data": {
      "text/plain": [
       "12"
      ]
     },
     "execution_count": 10,
     "metadata": {},
     "output_type": "execute_result"
    }
   ],
   "source": [
    "decipher_rsa(encrypt_rsa, puk)"
   ]
  },
  {
   "cell_type": "code",
   "execution_count": null,
   "id": "182382c8",
   "metadata": {},
   "outputs": [],
   "source": []
  }
 ],
 "metadata": {
  "kernelspec": {
   "display_name": "Python 3",
   "language": "python",
   "name": "python3"
  },
  "language_info": {
   "codemirror_mode": {
    "name": "ipython",
    "version": 3
   },
   "file_extension": ".py",
   "mimetype": "text/x-python",
   "name": "python",
   "nbconvert_exporter": "python",
   "pygments_lexer": "ipython3",
   "version": "3.7.4"
  }
 },
 "nbformat": 4,
 "nbformat_minor": 5
}
